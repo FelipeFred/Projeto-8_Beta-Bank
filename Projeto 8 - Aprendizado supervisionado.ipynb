{
 "cells": [
  {
   "cell_type": "markdown",
   "metadata": {},
   "source": [
    "# Projeto Beta Bank"
   ]
  },
  {
   "cell_type": "markdown",
   "metadata": {},
   "source": [
    "## Descrição do Projeto"
   ]
  },
  {
   "cell_type": "markdown",
   "metadata": {},
   "source": [
    "Foi detectado pelo banco Beta Bank qu seus clientes estão pouco a pouco os deixando mês a mês. A instituição entende que é mais coerente salvar clientes existentes do que atrair novos. Nosso objetivo será prever se um cliente deixará o banco em breve.\n",
    "\n",
    "Temos os dados sobre o comportamento passado dos clientes e precisões de contrato do banco."
   ]
  },
  {
   "cell_type": "markdown",
   "metadata": {},
   "source": [
    "### Objetivo"
   ]
  },
  {
   "cell_type": "markdown",
   "metadata": {},
   "source": [
    "Construir um modelo com o valor máximo possível de F1."
   ]
  },
  {
   "cell_type": "markdown",
   "metadata": {},
   "source": [
    "## Análise dos dados e Pré-processamento"
   ]
  },
  {
   "cell_type": "markdown",
   "metadata": {},
   "source": [
    "Iniciarei importando os as bibliotecas que acredito que serão úteis para a nálise dos dados."
   ]
  },
  {
   "cell_type": "code",
   "execution_count": 1,
   "metadata": {},
   "outputs": [],
   "source": [
    "# Importando os pacotes que serão utilizados\n",
    "\n",
    "# Para manipulação e tratamento dos dados\n",
    "import numpy as np\n",
    "import pandas as pd \n",
    "import time \n",
    "import matplotlib.pyplot as plt \n",
    "import seaborn as sns \n",
    "\n",
    "# Bibliotecas do Skit Learn\n",
    "from sklearn.model_selection import train_test_split \n",
    "from sklearn.preprocessing import StandardScaler \n",
    "from sklearn.preprocessing import LabelEncoder \n",
    "from sklearn.metrics import accuracy_score\n",
    "from sklearn.linear_model import LogisticRegression\n",
    "from sklearn.metrics import f1_score, roc_auc_score\n",
    "from sklearn.utils import shuffle\n",
    "from sklearn.metrics import precision_score, recall_score\n",
    "from sklearn.metrics import roc_curve\n",
    "from sklearn.metrics import roc_auc_score\n",
    "from sklearn.linear_model import LinearRegression\n",
    "from sklearn.tree import DecisionTreeClassifier\n",
    "from sklearn.ensemble import RandomForestClassifier\n",
    "from sklearn.model_selection import GridSearchCV"
   ]
  },
  {
   "cell_type": "code",
   "execution_count": 2,
   "metadata": {},
   "outputs": [],
   "source": [
    "#Importando os dados\n",
    "df = pd.read_csv('/datasets/Churn.csv')"
   ]
  },
  {
   "cell_type": "code",
   "execution_count": 3,
   "metadata": {},
   "outputs": [
    {
     "data": {
      "text/plain": [
       "(10000, 14)"
      ]
     },
     "execution_count": 3,
     "metadata": {},
     "output_type": "execute_result"
    }
   ],
   "source": [
    "# Visualizar as Linhas e Colunas do Arquivo\n",
    "df.shape"
   ]
  },
  {
   "cell_type": "code",
   "execution_count": 4,
   "metadata": {},
   "outputs": [
    {
     "data": {
      "text/html": [
       "<div>\n",
       "<style scoped>\n",
       "    .dataframe tbody tr th:only-of-type {\n",
       "        vertical-align: middle;\n",
       "    }\n",
       "\n",
       "    .dataframe tbody tr th {\n",
       "        vertical-align: top;\n",
       "    }\n",
       "\n",
       "    .dataframe thead th {\n",
       "        text-align: right;\n",
       "    }\n",
       "</style>\n",
       "<table border=\"1\" class=\"dataframe\">\n",
       "  <thead>\n",
       "    <tr style=\"text-align: right;\">\n",
       "      <th></th>\n",
       "      <th>RowNumber</th>\n",
       "      <th>CustomerId</th>\n",
       "      <th>Surname</th>\n",
       "      <th>CreditScore</th>\n",
       "      <th>Geography</th>\n",
       "      <th>Gender</th>\n",
       "      <th>Age</th>\n",
       "      <th>Tenure</th>\n",
       "      <th>Balance</th>\n",
       "      <th>NumOfProducts</th>\n",
       "      <th>HasCrCard</th>\n",
       "      <th>IsActiveMember</th>\n",
       "      <th>EstimatedSalary</th>\n",
       "      <th>Exited</th>\n",
       "    </tr>\n",
       "  </thead>\n",
       "  <tbody>\n",
       "    <tr>\n",
       "      <th>0</th>\n",
       "      <td>1</td>\n",
       "      <td>15634602</td>\n",
       "      <td>Hargrave</td>\n",
       "      <td>619</td>\n",
       "      <td>France</td>\n",
       "      <td>Female</td>\n",
       "      <td>42</td>\n",
       "      <td>2.0</td>\n",
       "      <td>0.00</td>\n",
       "      <td>1</td>\n",
       "      <td>1</td>\n",
       "      <td>1</td>\n",
       "      <td>101348.88</td>\n",
       "      <td>1</td>\n",
       "    </tr>\n",
       "    <tr>\n",
       "      <th>1</th>\n",
       "      <td>2</td>\n",
       "      <td>15647311</td>\n",
       "      <td>Hill</td>\n",
       "      <td>608</td>\n",
       "      <td>Spain</td>\n",
       "      <td>Female</td>\n",
       "      <td>41</td>\n",
       "      <td>1.0</td>\n",
       "      <td>83807.86</td>\n",
       "      <td>1</td>\n",
       "      <td>0</td>\n",
       "      <td>1</td>\n",
       "      <td>112542.58</td>\n",
       "      <td>0</td>\n",
       "    </tr>\n",
       "    <tr>\n",
       "      <th>2</th>\n",
       "      <td>3</td>\n",
       "      <td>15619304</td>\n",
       "      <td>Onio</td>\n",
       "      <td>502</td>\n",
       "      <td>France</td>\n",
       "      <td>Female</td>\n",
       "      <td>42</td>\n",
       "      <td>8.0</td>\n",
       "      <td>159660.80</td>\n",
       "      <td>3</td>\n",
       "      <td>1</td>\n",
       "      <td>0</td>\n",
       "      <td>113931.57</td>\n",
       "      <td>1</td>\n",
       "    </tr>\n",
       "    <tr>\n",
       "      <th>3</th>\n",
       "      <td>4</td>\n",
       "      <td>15701354</td>\n",
       "      <td>Boni</td>\n",
       "      <td>699</td>\n",
       "      <td>France</td>\n",
       "      <td>Female</td>\n",
       "      <td>39</td>\n",
       "      <td>1.0</td>\n",
       "      <td>0.00</td>\n",
       "      <td>2</td>\n",
       "      <td>0</td>\n",
       "      <td>0</td>\n",
       "      <td>93826.63</td>\n",
       "      <td>0</td>\n",
       "    </tr>\n",
       "    <tr>\n",
       "      <th>4</th>\n",
       "      <td>5</td>\n",
       "      <td>15737888</td>\n",
       "      <td>Mitchell</td>\n",
       "      <td>850</td>\n",
       "      <td>Spain</td>\n",
       "      <td>Female</td>\n",
       "      <td>43</td>\n",
       "      <td>2.0</td>\n",
       "      <td>125510.82</td>\n",
       "      <td>1</td>\n",
       "      <td>1</td>\n",
       "      <td>1</td>\n",
       "      <td>79084.10</td>\n",
       "      <td>0</td>\n",
       "    </tr>\n",
       "  </tbody>\n",
       "</table>\n",
       "</div>"
      ],
      "text/plain": [
       "   RowNumber  CustomerId   Surname  CreditScore Geography  Gender  Age  \\\n",
       "0          1    15634602  Hargrave          619    France  Female   42   \n",
       "1          2    15647311      Hill          608     Spain  Female   41   \n",
       "2          3    15619304      Onio          502    France  Female   42   \n",
       "3          4    15701354      Boni          699    France  Female   39   \n",
       "4          5    15737888  Mitchell          850     Spain  Female   43   \n",
       "\n",
       "   Tenure    Balance  NumOfProducts  HasCrCard  IsActiveMember  \\\n",
       "0     2.0       0.00              1          1               1   \n",
       "1     1.0   83807.86              1          0               1   \n",
       "2     8.0  159660.80              3          1               0   \n",
       "3     1.0       0.00              2          0               0   \n",
       "4     2.0  125510.82              1          1               1   \n",
       "\n",
       "   EstimatedSalary  Exited  \n",
       "0        101348.88       1  \n",
       "1        112542.58       0  \n",
       "2        113931.57       1  \n",
       "3         93826.63       0  \n",
       "4         79084.10       0  "
      ]
     },
     "execution_count": 4,
     "metadata": {},
     "output_type": "execute_result"
    }
   ],
   "source": [
    "# Visualizar as primeiras linha do arquivo\n",
    "df.head()"
   ]
  },
  {
   "cell_type": "code",
   "execution_count": 5,
   "metadata": {},
   "outputs": [
    {
     "data": {
      "text/html": [
       "<div>\n",
       "<style scoped>\n",
       "    .dataframe tbody tr th:only-of-type {\n",
       "        vertical-align: middle;\n",
       "    }\n",
       "\n",
       "    .dataframe tbody tr th {\n",
       "        vertical-align: top;\n",
       "    }\n",
       "\n",
       "    .dataframe thead th {\n",
       "        text-align: right;\n",
       "    }\n",
       "</style>\n",
       "<table border=\"1\" class=\"dataframe\">\n",
       "  <thead>\n",
       "    <tr style=\"text-align: right;\">\n",
       "      <th></th>\n",
       "      <th>RowNumber</th>\n",
       "      <th>CustomerId</th>\n",
       "      <th>Surname</th>\n",
       "      <th>CreditScore</th>\n",
       "      <th>Geography</th>\n",
       "      <th>Gender</th>\n",
       "      <th>Age</th>\n",
       "      <th>Tenure</th>\n",
       "      <th>Balance</th>\n",
       "      <th>NumOfProducts</th>\n",
       "      <th>HasCrCard</th>\n",
       "      <th>IsActiveMember</th>\n",
       "      <th>EstimatedSalary</th>\n",
       "      <th>Exited</th>\n",
       "    </tr>\n",
       "  </thead>\n",
       "  <tbody>\n",
       "    <tr>\n",
       "      <th>9995</th>\n",
       "      <td>9996</td>\n",
       "      <td>15606229</td>\n",
       "      <td>Obijiaku</td>\n",
       "      <td>771</td>\n",
       "      <td>France</td>\n",
       "      <td>Male</td>\n",
       "      <td>39</td>\n",
       "      <td>5.0</td>\n",
       "      <td>0.00</td>\n",
       "      <td>2</td>\n",
       "      <td>1</td>\n",
       "      <td>0</td>\n",
       "      <td>96270.64</td>\n",
       "      <td>0</td>\n",
       "    </tr>\n",
       "    <tr>\n",
       "      <th>9996</th>\n",
       "      <td>9997</td>\n",
       "      <td>15569892</td>\n",
       "      <td>Johnstone</td>\n",
       "      <td>516</td>\n",
       "      <td>France</td>\n",
       "      <td>Male</td>\n",
       "      <td>35</td>\n",
       "      <td>10.0</td>\n",
       "      <td>57369.61</td>\n",
       "      <td>1</td>\n",
       "      <td>1</td>\n",
       "      <td>1</td>\n",
       "      <td>101699.77</td>\n",
       "      <td>0</td>\n",
       "    </tr>\n",
       "    <tr>\n",
       "      <th>9997</th>\n",
       "      <td>9998</td>\n",
       "      <td>15584532</td>\n",
       "      <td>Liu</td>\n",
       "      <td>709</td>\n",
       "      <td>France</td>\n",
       "      <td>Female</td>\n",
       "      <td>36</td>\n",
       "      <td>7.0</td>\n",
       "      <td>0.00</td>\n",
       "      <td>1</td>\n",
       "      <td>0</td>\n",
       "      <td>1</td>\n",
       "      <td>42085.58</td>\n",
       "      <td>1</td>\n",
       "    </tr>\n",
       "    <tr>\n",
       "      <th>9998</th>\n",
       "      <td>9999</td>\n",
       "      <td>15682355</td>\n",
       "      <td>Sabbatini</td>\n",
       "      <td>772</td>\n",
       "      <td>Germany</td>\n",
       "      <td>Male</td>\n",
       "      <td>42</td>\n",
       "      <td>3.0</td>\n",
       "      <td>75075.31</td>\n",
       "      <td>2</td>\n",
       "      <td>1</td>\n",
       "      <td>0</td>\n",
       "      <td>92888.52</td>\n",
       "      <td>1</td>\n",
       "    </tr>\n",
       "    <tr>\n",
       "      <th>9999</th>\n",
       "      <td>10000</td>\n",
       "      <td>15628319</td>\n",
       "      <td>Walker</td>\n",
       "      <td>792</td>\n",
       "      <td>France</td>\n",
       "      <td>Female</td>\n",
       "      <td>28</td>\n",
       "      <td>NaN</td>\n",
       "      <td>130142.79</td>\n",
       "      <td>1</td>\n",
       "      <td>1</td>\n",
       "      <td>0</td>\n",
       "      <td>38190.78</td>\n",
       "      <td>0</td>\n",
       "    </tr>\n",
       "  </tbody>\n",
       "</table>\n",
       "</div>"
      ],
      "text/plain": [
       "      RowNumber  CustomerId    Surname  CreditScore Geography  Gender  Age  \\\n",
       "9995       9996    15606229   Obijiaku          771    France    Male   39   \n",
       "9996       9997    15569892  Johnstone          516    France    Male   35   \n",
       "9997       9998    15584532        Liu          709    France  Female   36   \n",
       "9998       9999    15682355  Sabbatini          772   Germany    Male   42   \n",
       "9999      10000    15628319     Walker          792    France  Female   28   \n",
       "\n",
       "      Tenure    Balance  NumOfProducts  HasCrCard  IsActiveMember  \\\n",
       "9995     5.0       0.00              2          1               0   \n",
       "9996    10.0   57369.61              1          1               1   \n",
       "9997     7.0       0.00              1          0               1   \n",
       "9998     3.0   75075.31              2          1               0   \n",
       "9999     NaN  130142.79              1          1               0   \n",
       "\n",
       "      EstimatedSalary  Exited  \n",
       "9995         96270.64       0  \n",
       "9996        101699.77       0  \n",
       "9997         42085.58       1  \n",
       "9998         92888.52       1  \n",
       "9999         38190.78       0  "
      ]
     },
     "execution_count": 5,
     "metadata": {},
     "output_type": "execute_result"
    }
   ],
   "source": [
    "df.tail()"
   ]
  },
  {
   "cell_type": "code",
   "execution_count": 6,
   "metadata": {},
   "outputs": [
    {
     "name": "stdout",
     "output_type": "stream",
     "text": [
      "<class 'pandas.core.frame.DataFrame'>\n",
      "RangeIndex: 10000 entries, 0 to 9999\n",
      "Data columns (total 14 columns):\n",
      " #   Column           Non-Null Count  Dtype  \n",
      "---  ------           --------------  -----  \n",
      " 0   RowNumber        10000 non-null  int64  \n",
      " 1   CustomerId       10000 non-null  int64  \n",
      " 2   Surname          10000 non-null  object \n",
      " 3   CreditScore      10000 non-null  int64  \n",
      " 4   Geography        10000 non-null  object \n",
      " 5   Gender           10000 non-null  object \n",
      " 6   Age              10000 non-null  int64  \n",
      " 7   Tenure           9091 non-null   float64\n",
      " 8   Balance          10000 non-null  float64\n",
      " 9   NumOfProducts    10000 non-null  int64  \n",
      " 10  HasCrCard        10000 non-null  int64  \n",
      " 11  IsActiveMember   10000 non-null  int64  \n",
      " 12  EstimatedSalary  10000 non-null  float64\n",
      " 13  Exited           10000 non-null  int64  \n",
      "dtypes: float64(3), int64(8), object(3)\n",
      "memory usage: 1.1+ MB\n"
     ]
    }
   ],
   "source": [
    "# Verificar os tipos de dados das variáveis\n",
    "df.info()"
   ]
  },
  {
   "cell_type": "code",
   "execution_count": 7,
   "metadata": {},
   "outputs": [],
   "source": [
    "# convertendo os nomes das colunas para letras maiúsculas\n",
    "df.columns = df.columns.str.upper()"
   ]
  },
  {
   "cell_type": "code",
   "execution_count": 8,
   "metadata": {},
   "outputs": [
    {
     "data": {
      "text/plain": [
       "ROWNUMBER            0\n",
       "CUSTOMERID           0\n",
       "SURNAME              0\n",
       "CREDITSCORE          0\n",
       "GEOGRAPHY            0\n",
       "GENDER               0\n",
       "AGE                  0\n",
       "TENURE             909\n",
       "BALANCE              0\n",
       "NUMOFPRODUCTS        0\n",
       "HASCRCARD            0\n",
       "ISACTIVEMEMBER       0\n",
       "ESTIMATEDSALARY      0\n",
       "EXITED               0\n",
       "dtype: int64"
      ]
     },
     "execution_count": 8,
     "metadata": {},
     "output_type": "execute_result"
    }
   ],
   "source": [
    "# Verificando valores missing\n",
    "df.isna().sum()"
   ]
  },
  {
   "cell_type": "code",
   "execution_count": 9,
   "metadata": {},
   "outputs": [
    {
     "data": {
      "text/html": [
       "<div>\n",
       "<style scoped>\n",
       "    .dataframe tbody tr th:only-of-type {\n",
       "        vertical-align: middle;\n",
       "    }\n",
       "\n",
       "    .dataframe tbody tr th {\n",
       "        vertical-align: top;\n",
       "    }\n",
       "\n",
       "    .dataframe thead th {\n",
       "        text-align: right;\n",
       "    }\n",
       "</style>\n",
       "<table border=\"1\" class=\"dataframe\">\n",
       "  <thead>\n",
       "    <tr style=\"text-align: right;\">\n",
       "      <th></th>\n",
       "      <th>ROWNUMBER</th>\n",
       "      <th>CUSTOMERID</th>\n",
       "      <th>CREDITSCORE</th>\n",
       "      <th>AGE</th>\n",
       "      <th>TENURE</th>\n",
       "      <th>BALANCE</th>\n",
       "      <th>NUMOFPRODUCTS</th>\n",
       "      <th>HASCRCARD</th>\n",
       "      <th>ISACTIVEMEMBER</th>\n",
       "      <th>ESTIMATEDSALARY</th>\n",
       "      <th>EXITED</th>\n",
       "    </tr>\n",
       "  </thead>\n",
       "  <tbody>\n",
       "    <tr>\n",
       "      <th>count</th>\n",
       "      <td>10000.00000</td>\n",
       "      <td>1.000000e+04</td>\n",
       "      <td>10000.000000</td>\n",
       "      <td>10000.000000</td>\n",
       "      <td>9091.000000</td>\n",
       "      <td>10000.000000</td>\n",
       "      <td>10000.000000</td>\n",
       "      <td>10000.00000</td>\n",
       "      <td>10000.000000</td>\n",
       "      <td>10000.000000</td>\n",
       "      <td>10000.000000</td>\n",
       "    </tr>\n",
       "    <tr>\n",
       "      <th>mean</th>\n",
       "      <td>5000.50000</td>\n",
       "      <td>1.569094e+07</td>\n",
       "      <td>650.528800</td>\n",
       "      <td>38.921800</td>\n",
       "      <td>4.997690</td>\n",
       "      <td>76485.889288</td>\n",
       "      <td>1.530200</td>\n",
       "      <td>0.70550</td>\n",
       "      <td>0.515100</td>\n",
       "      <td>100090.239881</td>\n",
       "      <td>0.203700</td>\n",
       "    </tr>\n",
       "    <tr>\n",
       "      <th>std</th>\n",
       "      <td>2886.89568</td>\n",
       "      <td>7.193619e+04</td>\n",
       "      <td>96.653299</td>\n",
       "      <td>10.487806</td>\n",
       "      <td>2.894723</td>\n",
       "      <td>62397.405202</td>\n",
       "      <td>0.581654</td>\n",
       "      <td>0.45584</td>\n",
       "      <td>0.499797</td>\n",
       "      <td>57510.492818</td>\n",
       "      <td>0.402769</td>\n",
       "    </tr>\n",
       "    <tr>\n",
       "      <th>min</th>\n",
       "      <td>1.00000</td>\n",
       "      <td>1.556570e+07</td>\n",
       "      <td>350.000000</td>\n",
       "      <td>18.000000</td>\n",
       "      <td>0.000000</td>\n",
       "      <td>0.000000</td>\n",
       "      <td>1.000000</td>\n",
       "      <td>0.00000</td>\n",
       "      <td>0.000000</td>\n",
       "      <td>11.580000</td>\n",
       "      <td>0.000000</td>\n",
       "    </tr>\n",
       "    <tr>\n",
       "      <th>25%</th>\n",
       "      <td>2500.75000</td>\n",
       "      <td>1.562853e+07</td>\n",
       "      <td>584.000000</td>\n",
       "      <td>32.000000</td>\n",
       "      <td>2.000000</td>\n",
       "      <td>0.000000</td>\n",
       "      <td>1.000000</td>\n",
       "      <td>0.00000</td>\n",
       "      <td>0.000000</td>\n",
       "      <td>51002.110000</td>\n",
       "      <td>0.000000</td>\n",
       "    </tr>\n",
       "    <tr>\n",
       "      <th>50%</th>\n",
       "      <td>5000.50000</td>\n",
       "      <td>1.569074e+07</td>\n",
       "      <td>652.000000</td>\n",
       "      <td>37.000000</td>\n",
       "      <td>5.000000</td>\n",
       "      <td>97198.540000</td>\n",
       "      <td>1.000000</td>\n",
       "      <td>1.00000</td>\n",
       "      <td>1.000000</td>\n",
       "      <td>100193.915000</td>\n",
       "      <td>0.000000</td>\n",
       "    </tr>\n",
       "    <tr>\n",
       "      <th>75%</th>\n",
       "      <td>7500.25000</td>\n",
       "      <td>1.575323e+07</td>\n",
       "      <td>718.000000</td>\n",
       "      <td>44.000000</td>\n",
       "      <td>7.000000</td>\n",
       "      <td>127644.240000</td>\n",
       "      <td>2.000000</td>\n",
       "      <td>1.00000</td>\n",
       "      <td>1.000000</td>\n",
       "      <td>149388.247500</td>\n",
       "      <td>0.000000</td>\n",
       "    </tr>\n",
       "    <tr>\n",
       "      <th>max</th>\n",
       "      <td>10000.00000</td>\n",
       "      <td>1.581569e+07</td>\n",
       "      <td>850.000000</td>\n",
       "      <td>92.000000</td>\n",
       "      <td>10.000000</td>\n",
       "      <td>250898.090000</td>\n",
       "      <td>4.000000</td>\n",
       "      <td>1.00000</td>\n",
       "      <td>1.000000</td>\n",
       "      <td>199992.480000</td>\n",
       "      <td>1.000000</td>\n",
       "    </tr>\n",
       "  </tbody>\n",
       "</table>\n",
       "</div>"
      ],
      "text/plain": [
       "         ROWNUMBER    CUSTOMERID   CREDITSCORE           AGE       TENURE  \\\n",
       "count  10000.00000  1.000000e+04  10000.000000  10000.000000  9091.000000   \n",
       "mean    5000.50000  1.569094e+07    650.528800     38.921800     4.997690   \n",
       "std     2886.89568  7.193619e+04     96.653299     10.487806     2.894723   \n",
       "min        1.00000  1.556570e+07    350.000000     18.000000     0.000000   \n",
       "25%     2500.75000  1.562853e+07    584.000000     32.000000     2.000000   \n",
       "50%     5000.50000  1.569074e+07    652.000000     37.000000     5.000000   \n",
       "75%     7500.25000  1.575323e+07    718.000000     44.000000     7.000000   \n",
       "max    10000.00000  1.581569e+07    850.000000     92.000000    10.000000   \n",
       "\n",
       "             BALANCE  NUMOFPRODUCTS    HASCRCARD  ISACTIVEMEMBER  \\\n",
       "count   10000.000000   10000.000000  10000.00000    10000.000000   \n",
       "mean    76485.889288       1.530200      0.70550        0.515100   \n",
       "std     62397.405202       0.581654      0.45584        0.499797   \n",
       "min         0.000000       1.000000      0.00000        0.000000   \n",
       "25%         0.000000       1.000000      0.00000        0.000000   \n",
       "50%     97198.540000       1.000000      1.00000        1.000000   \n",
       "75%    127644.240000       2.000000      1.00000        1.000000   \n",
       "max    250898.090000       4.000000      1.00000        1.000000   \n",
       "\n",
       "       ESTIMATEDSALARY        EXITED  \n",
       "count     10000.000000  10000.000000  \n",
       "mean     100090.239881      0.203700  \n",
       "std       57510.492818      0.402769  \n",
       "min          11.580000      0.000000  \n",
       "25%       51002.110000      0.000000  \n",
       "50%      100193.915000      0.000000  \n",
       "75%      149388.247500      0.000000  \n",
       "max      199992.480000      1.000000  "
      ]
     },
     "execution_count": 9,
     "metadata": {},
     "output_type": "execute_result"
    }
   ],
   "source": [
    "AZX\n",
    "df.describe()"
   ]
  },
  {
   "cell_type": "code",
   "execution_count": 10,
   "metadata": {},
   "outputs": [
    {
     "data": {
      "text/html": [
       "<div>\n",
       "<style scoped>\n",
       "    .dataframe tbody tr th:only-of-type {\n",
       "        vertical-align: middle;\n",
       "    }\n",
       "\n",
       "    .dataframe tbody tr th {\n",
       "        vertical-align: top;\n",
       "    }\n",
       "\n",
       "    .dataframe thead tr th {\n",
       "        text-align: left;\n",
       "    }\n",
       "\n",
       "    .dataframe thead tr:last-of-type th {\n",
       "        text-align: right;\n",
       "    }\n",
       "</style>\n",
       "<table border=\"1\" class=\"dataframe\">\n",
       "  <thead>\n",
       "    <tr>\n",
       "      <th></th>\n",
       "      <th>mean</th>\n",
       "      <th>median</th>\n",
       "    </tr>\n",
       "    <tr>\n",
       "      <th></th>\n",
       "      <th>TENURE</th>\n",
       "      <th>TENURE</th>\n",
       "    </tr>\n",
       "    <tr>\n",
       "      <th>EXITED</th>\n",
       "      <th></th>\n",
       "      <th></th>\n",
       "    </tr>\n",
       "  </thead>\n",
       "  <tbody>\n",
       "    <tr>\n",
       "      <th>0</th>\n",
       "      <td>5.022247</td>\n",
       "      <td>5.0</td>\n",
       "    </tr>\n",
       "    <tr>\n",
       "      <th>1</th>\n",
       "      <td>4.901834</td>\n",
       "      <td>5.0</td>\n",
       "    </tr>\n",
       "  </tbody>\n",
       "</table>\n",
       "</div>"
      ],
      "text/plain": [
       "            mean median\n",
       "          TENURE TENURE\n",
       "EXITED                 \n",
       "0       5.022247    5.0\n",
       "1       4.901834    5.0"
      ]
     },
     "execution_count": 10,
     "metadata": {},
     "output_type": "execute_result"
    }
   ],
   "source": [
    "# criando a pivot table para calcular a média e mediana de 'Tenure'\n",
    "pd.pivot_table(df, values='TENURE', index='EXITED', aggfunc=['mean', 'median'])"
   ]
  },
  {
   "cell_type": "code",
   "execution_count": 11,
   "metadata": {},
   "outputs": [
    {
     "data": {
      "text/plain": [
       "TENURE\n",
       "0.0     382\n",
       "1.0     952\n",
       "2.0     950\n",
       "3.0     928\n",
       "4.0     885\n",
       "5.0     927\n",
       "6.0     881\n",
       "7.0     925\n",
       "8.0     933\n",
       "9.0     882\n",
       "10.0    446\n",
       "dtype: int64"
      ]
     },
     "execution_count": 11,
     "metadata": {},
     "output_type": "execute_result"
    }
   ],
   "source": [
    "# Agrupar os valores da variável \n",
    "df.groupby(['TENURE']).size()"
   ]
  },
  {
   "cell_type": "code",
   "execution_count": 12,
   "metadata": {},
   "outputs": [
    {
     "data": {
      "text/plain": [
       "850    233\n",
       "678     63\n",
       "655     54\n",
       "667     53\n",
       "705     53\n",
       "      ... \n",
       "412      1\n",
       "351      1\n",
       "365      1\n",
       "373      1\n",
       "423      1\n",
       "Name: CREDITSCORE, Length: 460, dtype: int64"
      ]
     },
     "execution_count": 12,
     "metadata": {},
     "output_type": "execute_result"
    }
   ],
   "source": [
    "df['CREDITSCORE'].value_counts()"
   ]
  },
  {
   "cell_type": "code",
   "execution_count": 13,
   "metadata": {},
   "outputs": [
    {
     "data": {
      "text/plain": [
       "CREDITSCORE\n",
       "350      5\n",
       "351      1\n",
       "358      1\n",
       "359      1\n",
       "363      1\n",
       "      ... \n",
       "846      5\n",
       "847      6\n",
       "848      5\n",
       "849      8\n",
       "850    233\n",
       "Length: 460, dtype: int64"
      ]
     },
     "execution_count": 13,
     "metadata": {},
     "output_type": "execute_result"
    }
   ],
   "source": [
    "df.groupby(['CREDITSCORE']).size()"
   ]
  },
  {
   "cell_type": "code",
   "execution_count": 14,
   "metadata": {},
   "outputs": [
    {
     "name": "stdout",
     "output_type": "stream",
     "text": [
      "ROWNUMBER : int64\n",
      "CUSTOMERID : int64\n",
      "CREDITSCORE : int64\n",
      "AGE : int64\n",
      "TENURE : float64\n",
      "BALANCE : float64\n",
      "NUMOFPRODUCTS : int64\n",
      "HASCRCARD : int64\n",
      "ISACTIVEMEMBER : int64\n",
      "ESTIMATEDSALARY : float64\n",
      "EXITED : int64\n"
     ]
    }
   ],
   "source": [
    "# criando uma lista para armazenar as variáveis numéricas\n",
    "variaveis_numericas = []\n",
    "\n",
    "# iterando por todas as colunas do dataframe\n",
    "for i in df.columns:\n",
    "    # verificando se a coluna tem tipo 'int64' ou 'float64'\n",
    "    if df[i].dtype == 'int64' or df[i].dtype == 'float64':\n",
    "        # exibindo o nome da coluna e o tipo de dados\n",
    "        print(i, ':', df[i].dtype)\n",
    "        # adicionando o nome da coluna à lista de variáveis numéricas\n",
    "        variaveis_numericas.append(i)"
   ]
  },
  {
   "cell_type": "code",
   "execution_count": 15,
   "metadata": {},
   "outputs": [
    {
     "data": {
      "image/png": "[encoded data removed]",
      "text/plain": [
       "<Figure size 1008x1728 with 8 Axes>"
      ]
     },
     "metadata": {
      "needs_background": "light"
     },
     "output_type": "display_data"
    }
   ],
   "source": [
    "#Podemos observar nos boxplots abaixo que algumas variáveis númericas apresentam uma grande quantidade de \"possíveis\" outliers\n",
    "#Precisamos avaliar cada uma dessas variaveis dentro do contexto dos dados para saber se realmente iremos trata-las como outlier\n",
    "\n",
    "\n",
    "plt.rcParams[\"figure.figsize\"] = [14.00, 24.00]\n",
    "plt.rcParams[\"figure.autolayout\"] = True\n",
    "f, axes = plt.subplots(4, 2) #4 linhas e 2 colunas\n",
    "\n",
    "linha = 0\n",
    "coluna = 0\n",
    "variaveis_numericas = ['CREDITSCORE', 'AGE', 'TENURE', 'BALANCE', 'NUMOFPRODUCTS',\n",
    "                       'HASCRCARD', 'ISACTIVEMEMBER', 'ESTIMATEDSALARY']\n",
    "for i in variaveis_numericas:\n",
    "    sns.boxplot(data = df, y=i, ax=axes[linha][coluna])\n",
    "    coluna += 1\n",
    "    if coluna == 2:\n",
    "        linha += 1\n",
    "        coluna = 0            \n",
    "\n",
    "plt.show()"
   ]
  },
  {
   "cell_type": "code",
   "execution_count": 16,
   "metadata": {},
   "outputs": [],
   "source": [
    "# substituindo os valores ausentes pela mediana\n",
    "df['TENURE'].fillna(df['TENURE'].median(), inplace=True)"
   ]
  },
  {
   "cell_type": "code",
   "execution_count": 17,
   "metadata": {},
   "outputs": [
    {
     "data": {
      "text/plain": [
       "ROWNUMBER          0\n",
       "CUSTOMERID         0\n",
       "SURNAME            0\n",
       "CREDITSCORE        0\n",
       "GEOGRAPHY          0\n",
       "GENDER             0\n",
       "AGE                0\n",
       "TENURE             0\n",
       "BALANCE            0\n",
       "NUMOFPRODUCTS      0\n",
       "HASCRCARD          0\n",
       "ISACTIVEMEMBER     0\n",
       "ESTIMATEDSALARY    0\n",
       "EXITED             0\n",
       "dtype: int64"
      ]
     },
     "execution_count": 17,
     "metadata": {},
     "output_type": "execute_result"
    }
   ],
   "source": [
    "#Verificando novamente se os valores ausentes foram preenchidos.\n",
    "df.isna().sum()"
   ]
  },
  {
   "cell_type": "markdown",
   "metadata": {},
   "source": [
    "### Conclusão intermediária\n",
    "A priori foram avaliados os dados contidos em cada coluna do DataFrame, os tipos condiziam com os valores contidos em cada coluna e não necessitou de transformações, foi notado que os nomes das colunas possuiam nomes com letras maiúsculas e minúsculas esse valor foi transformado para tudo maiúscula para uma melhor padronização.\n",
    "\n",
    "Os Valores ausentes da coluna `TENURE` foram preenchidos com a mediana, após análise da média e da mediana os números ficaram muito próximos e foi analisado o boxplot da coluna e não ficou evidente que tinha-se muito outliers, portando o preenchimento dos 9% dos valores ausentes, na minha opinião, foi uma decisão que trará mais acertividade que apenas a exclusão dessas linhas.\n",
    "\n",
    "Ficou notado que as colunas `CREDITSCORE` e `AGE` possuem mutios outliers e que esses valores serão analisados para que possamos realizar o balanceamento dos dados.\n"
   ]
  },
  {
   "cell_type": "markdown",
   "metadata": {},
   "source": [
    "## Verificação prévia do equilibrio das classes e treinamento de modelo."
   ]
  },
  {
   "cell_type": "markdown",
   "metadata": {},
   "source": [
    "### Introdução\n",
    "A coluna \"ROWNUMBER\" é um índice que não contém informações relevantes para a análise, portanto pode ser removida. \"CUSTOMERID\" é um identificador único e pode ser útil para identificar clientes específicos, mas não deve ser usado como uma variável explicativa no modelo, portanto também será removido.\n",
    "\n",
    "\"SURNAME\" é o sobrenome do cliente, que não parece ser uma variável relevante para prever se um cliente deixará o banco, portanto pode ser removido.\n",
    "\n",
    "\"CREDITSCORE\", \"GEOGRAPHY\", \"GENDER\", \"AGE\", \"TENURE\", \"BALANCE\", \"NUMOFPRODUCTS\", \"HASCRCARD\", \"ISACTIVEMEMBER\" e \"ESTIMATEDSALARY\" são variáveis que podem ser usadas para prever se um cliente deixará o banco, portanto serão mantidas.\n",
    "\n",
    "O objetivo é prever se um cliente deixará o banco, portanto a variável \"EXITED\" é a variável de destino e deve ser mantida."
   ]
  },
  {
   "cell_type": "code",
   "execution_count": 18,
   "metadata": {},
   "outputs": [
    {
     "name": "stdout",
     "output_type": "stream",
     "text": [
      "Número de exemplos em cada classe:\n",
      "0    7963\n",
      "1    2037\n",
      "Name: EXITED, dtype: int64\n",
      "\n",
      "Proporção de exemplos na classe 1: 20.37%\n"
     ]
    }
   ],
   "source": [
    "# Conta o número de exemplos em cada classe\n",
    "count_classes_EXITED = pd.value_counts(df['EXITED'], sort = True)\n",
    "\n",
    "# Exibe a contagem de exemplos em cada classe\n",
    "print(\"Número de exemplos em cada classe:\")\n",
    "print(count_classes_EXITED)\n",
    "\n",
    "# Calcula a proporção de exemplos na classe 1\n",
    "prop_1 = count_classes_EXITED[1] / (count_classes_EXITED[0] + count_classes_EXITED[1])\n",
    "\n",
    "# Exibe a proporção de exemplos na classe 1\n",
    "print(\"\\nProporção de exemplos na classe 1: {:.2f}%\".format(prop_1*100))"
   ]
  },
  {
   "cell_type": "code",
   "execution_count": 19,
   "metadata": {},
   "outputs": [
    {
     "name": "stdout",
     "output_type": "stream",
     "text": [
      "Número de exemplos em cada classe:\n",
      "1    5151\n",
      "0    4849\n",
      "Name: ISACTIVEMEMBER, dtype: int64\n",
      "\n",
      "Proporção de exemplos na classe 1: 51.51%\n"
     ]
    }
   ],
   "source": [
    "# Conta o número de exemplos em cada classe\n",
    "count_classes_ISACTIVEMEMBER = pd.value_counts(df['ISACTIVEMEMBER'], sort = True)\n",
    "\n",
    "# Exibe a contagem de exemplos em cada classe\n",
    "print(\"Número de exemplos em cada classe:\")\n",
    "print(count_classes_ISACTIVEMEMBER)\n",
    "\n",
    "# Calcula a proporção de exemplos na classe 1\n",
    "prop_2 = count_classes_ISACTIVEMEMBER[1] / (count_classes_ISACTIVEMEMBER[0] + count_classes_ISACTIVEMEMBER[1])\n",
    "\n",
    "# Exibe a proporção de exemplos na classe 1\n",
    "print(\"\\nProporção de exemplos na classe 1: {:.2f}%\".format(prop_2*100))"
   ]
  },
  {
   "cell_type": "code",
   "execution_count": 20,
   "metadata": {},
   "outputs": [
    {
     "name": "stdout",
     "output_type": "stream",
     "text": [
      "Número de exemplos em cada classe:\n",
      "1    7055\n",
      "0    2945\n",
      "Name: HASCRCARD, dtype: int64\n",
      "\n",
      "Proporção de exemplos na classe 1: 70.55%\n"
     ]
    }
   ],
   "source": [
    "# Conta o número de exemplos em cada classe\n",
    "count_classes_HASCRCARD = pd.value_counts(df['HASCRCARD'], sort = True)\n",
    "\n",
    "# Exibe a contagem de exemplos em cada classe\n",
    "print(\"Número de exemplos em cada classe:\")\n",
    "print(count_classes_HASCRCARD)\n",
    "\n",
    "# Calcula a proporção de exemplos na classe 1\n",
    "prop_3 = count_classes_HASCRCARD[1] / (count_classes_HASCRCARD[0] + count_classes_HASCRCARD[1])\n",
    "\n",
    "# Exibe a proporção de exemplos na classe 1\n",
    "print(\"\\nProporção de exemplos na classe 1: {:.2f}%\".format(prop_3*100))"
   ]
  },
  {
   "cell_type": "code",
   "execution_count": 21,
   "metadata": {},
   "outputs": [
    {
     "name": "stdout",
     "output_type": "stream",
     "text": [
      "\n",
      "Logistic Regression:\n",
      "F1 Score (treinamento): 0.02\n",
      "F1 Score (validação): 0.03\n",
      "AUC-ROC (treinamento): 0.50\n",
      "AUC-ROC (validação): 0.51\n",
      "Treinado!\n",
      "\n",
      "Decision Tree:\n",
      "F1 Score (treinamento): 1.00\n",
      "F1 Score (validação): 0.45\n",
      "AUC-ROC (treinamento): 1.00\n",
      "AUC-ROC (validação): 0.66\n",
      "Treinado!\n",
      "\n",
      "Random Forest:\n",
      "F1 Score (treinamento): 1.00\n",
      "F1 Score (validação): 0.55\n",
      "AUC-ROC (treinamento): 1.00\n",
      "AUC-ROC (validação): 0.70\n",
      "Treinado!\n"
     ]
    }
   ],
   "source": [
    "# Separando as características e os objetivos\n",
    "features = df.drop(['ROWNUMBER', 'GEOGRAPHY', 'GENDER', 'CUSTOMERID', 'SURNAME', 'EXITED'], axis=1)\n",
    "target = df['EXITED']\n",
    "\n",
    "# Dividindo os dados em conjuntos de treinamento e teste\n",
    "features_train, features_test, target_train, target_test = train_test_split(\n",
    "    features, target, test_size=0.3, random_state=12345)\n",
    "\n",
    "# Dividindo os dados de treinamento em conjuntos de treinamento e validação\n",
    "features_train, features_valid, target_train, target_valid = train_test_split(\n",
    "    features_train, target_train, test_size=0.2, random_state=12345)\n",
    "\n",
    "# Treinando o modelo de regressão logística\n",
    "logistic_model = LogisticRegression(solver='liblinear', random_state=12345)\n",
    "logistic_model.fit(features_train, target_train)\n",
    "\n",
    "# Treinando o modelo de árvore de decisão\n",
    "tree_model = DecisionTreeClassifier(random_state=12345)\n",
    "tree_model.fit(features_train, target_train)\n",
    "\n",
    "# Treinando o modelo de floresta aleatória\n",
    "forest_model = RandomForestClassifier(random_state=12345)\n",
    "forest_model.fit(features_train, target_train)\n",
    "\n",
    "# Realizando as previsões nos conjuntos de treinamento e validação para os três modelos\n",
    "models = [logistic_model, tree_model, forest_model]\n",
    "for i, model in enumerate(models):\n",
    "    model_name = ['Logistic Regression', 'Decision Tree', 'Random Forest'][i]\n",
    "    predictions_train = model.predict(features_train)\n",
    "    predictions_valid = model.predict(features_valid)\n",
    "\n",
    "    # Calculando o F1 Score e o AUC-ROC nos conjuntos de treinamento e validação\n",
    "    f1_score_train = f1_score(target_train, predictions_train)\n",
    "    f1_score_valid = f1_score(target_valid, predictions_valid)\n",
    "    auc_roc_train = roc_auc_score(target_train, predictions_train)\n",
    "    auc_roc_valid = roc_auc_score(target_valid, predictions_valid)\n",
    "\n",
    "    # Imprimindo os resultados\n",
    "    print(f'\\n{model_name}:')\n",
    "    print(f'F1 Score (treinamento): {f1_score_train:.2f}')\n",
    "    print(f'F1 Score (validação): {f1_score_valid:.2f}')\n",
    "    print(f'AUC-ROC (treinamento): {auc_roc_train:.2f}')\n",
    "    print(f'AUC-ROC (validação): {auc_roc_valid:.2f}')\n",
    "    print('Treinado!')\n"
   ]
  },
  {
   "cell_type": "code",
   "execution_count": 22,
   "metadata": {},
   "outputs": [
    {
     "name": "stdout",
     "output_type": "stream",
     "text": [
      "A acurácia do melhor modelo no conjunto de validação (n_estimators = 10): 0.8535714285714285\n"
     ]
    },
    {
     "data": {
      "text/plain": [
       "RandomForestClassifier(n_estimators=6, random_state=54321)"
      ]
     },
     "execution_count": 22,
     "metadata": {},
     "output_type": "execute_result"
    }
   ],
   "source": [
    "best_score = 0\n",
    "best_est = 0\n",
    "for est in range(1, 11):\n",
    "    model = RandomForestClassifier(random_state=54321, n_estimators=est)\n",
    "    model.fit(features_train, target_train)\n",
    "    score = model.score(features_valid, target_valid)\n",
    "    if score > best_score:\n",
    "        best_score = score\n",
    "        best_est = est\n",
    "\n",
    "print(\"A acurácia do melhor modelo no conjunto de validação (n_estimators = {}): {}\".format(best_est, best_score))\n",
    "\n",
    "final_model = RandomForestClassifier(random_state=54321, n_estimators=6)\n",
    "final_model.fit(features_train, target_train)"
   ]
  },
  {
   "cell_type": "code",
   "execution_count": 23,
   "metadata": {},
   "outputs": [
    {
     "name": "stdout",
     "output_type": "stream",
     "text": [
      "max_depth = 1 : 0.8057142857142857\n",
      "max_depth = 2 : 0.8092857142857143\n",
      "max_depth = 3 : 0.8307142857142857\n",
      "max_depth = 4 : 0.85\n",
      "max_depth = 5 : 0.8621428571428571\n",
      "max_depth = 6 : 0.8657142857142858\n",
      "max_depth = 7 : 0.8692857142857143\n",
      "max_depth = 8 : 0.8671428571428571\n",
      "max_depth = 9 : 0.8685714285714285\n"
     ]
    }
   ],
   "source": [
    "for depth in range(1, 10):\n",
    "    model = RandomForestClassifier(random_state=12345, max_depth=depth)\n",
    "    model.fit(features_train, target_train)\n",
    "    predictions_valid = model.predict(features_valid)\n",
    "    print('max_depth =', depth, ': ', end='')\n",
    "    print(accuracy_score(target_valid, predictions_valid))"
   ]
  },
  {
   "cell_type": "code",
   "execution_count": 24,
   "metadata": {},
   "outputs": [],
   "source": [
    "# função para balanceamento de classes\n",
    "def upsample(features, target, repeat):\n",
    "    features_zeros = features[target == 0]\n",
    "    features_ones = features[target == 1]\n",
    "    target_zeros = target[target == 0]\n",
    "    target_ones = target[target == 1]\n",
    "\n",
    "    features_upsampled = pd.concat([features_zeros] + [features_ones] * repeat)\n",
    "    target_upsampled = pd.concat([target_zeros] + [target_ones] * repeat)\n",
    "\n",
    "    features_upsampled, target_upsampled = shuffle(\n",
    "        features_upsampled, target_upsampled, random_state=12345\n",
    "    )\n",
    "\n",
    "    return features_upsampled, target_upsampled"
   ]
  },
  {
   "cell_type": "code",
   "execution_count": 25,
   "metadata": {},
   "outputs": [],
   "source": [
    "# balanceando os dados de treinamento\n",
    "features_train, target_train = upsample(features_train, target_train, 10)"
   ]
  },
  {
   "cell_type": "code",
   "execution_count": 26,
   "metadata": {},
   "outputs": [
    {
     "name": "stdout",
     "output_type": "stream",
     "text": [
      "F1: 0.48899188876013916\n"
     ]
    }
   ],
   "source": [
    "# criando e treinando o modelo Random Forest\n",
    "model = RandomForestClassifier(n_estimators=100, max_depth=10, random_state=12345)\n",
    "model.fit(features_train, target_train)\n",
    "# fazendo previsões no conjunto de validação e calculando o F1-score\n",
    "predicted_valid = model.predict(features_valid)\n",
    "print('F1:', f1_score(target_valid, predicted_valid))"
   ]
  },
  {
   "cell_type": "code",
   "execution_count": 27,
   "metadata": {},
   "outputs": [
    {
     "name": "stdout",
     "output_type": "stream",
     "text": [
      "F1: 0.5616161616161617\n"
     ]
    }
   ],
   "source": [
    "# criando e treinando o modelo Random Forest\n",
    "model = RandomForestClassifievr(max_depth=25, random_state=12345)\n",
    "model.fit(features_train, target_train)\n",
    "# fazendo previsões no conjunto de validação e calculando o F1-score\n",
    "predicted_valid = model.predict(features_valid)\n",
    "print('F1:', f1_score(target_valid, predicted_valid))"
   ]
  },
  {
   "cell_type": "code",
   "execution_count": 28,
   "metadata": {},
   "outputs": [
    {
     "name": "stdout",
     "output_type": "stream",
     "text": [
      "F1: 0.570264765784114\n"
     ]
    }
   ],
   "source": [
    "# criando e treinando o modelo Random Forest\n",
    "model = RandomForestClassifier(n_estimators=10, random_state=12345)\n",
    "model.fit(features_train, target_train)\n",
    "# fazendo previsões no conjunto de validação e calculando o F1-score\n",
    "predicted_valid = model.predict(features_valid)\n",
    "print('F1:', f1_score(target_valid, predicted_valid))"
   ]
  },
  {
   "cell_type": "code",
   "execution_count": 29,
   "metadata": {},
   "outputs": [],
   "source": [
    "def downsample(features, target, fraction):\n",
    "    features_zeros = features[target == 0]\n",
    "    features_ones = features[target == 1]\n",
    "    target_zeros = target[target == 0]\n",
    "    target_ones = target[target == 1]\n",
    "\n",
    "    features_downsampled = pd.concat(\n",
    "        [features_zeros.sample(frac=fraction, random_state=12345)]\n",
    "        + [features_ones]\n",
    "    )\n",
    "    target_downsampled = pd.concat(\n",
    "        [target_zeros.sample(frac=fraction, random_state=12345)]\n",
    "        + [target_ones]\n",
    "    )\n",
    "\n",
    "    features_downsampled, target_downsampled = shuffle(\n",
    "        features_downsampled, target_downsampled, random_state=12345\n",
    "    )\n",
    "\n",
    "    return features_downsampled, target_downsampled\n",
    "\n",
    "\n",
    "features_downsampled, target_downsampled = downsample(\n",
    "    features_train, target_train, 0.1\n",
    ")"
   ]
  },
  {
   "cell_type": "code",
   "execution_count": 30,
   "metadata": {},
   "outputs": [
    {
     "name": "stdout",
     "output_type": "stream",
     "text": [
      "F1: 0.35962566844919786\n"
     ]
    }
   ],
   "source": [
    "model = RandomForestClassifier(n_estimators=100, max_depth=10, random_state=12345)\n",
    "model.fit(features_downsampled, target_downsampled)\n",
    "predicted_valid = model.predict(features_valid)\n",
    "print('F1:', f1_score(target_valid, predicted_valid))"
   ]
  },
  {
   "cell_type": "code",
   "execution_count": 31,
   "metadata": {},
   "outputs": [
    {
     "name": "stdout",
     "output_type": "stream",
     "text": [
      "F1: 0.4115755627009646\n"
     ]
    }
   ],
   "source": [
    "model = RandomForestClassifier(max_depth=20, random_state=12345)\n",
    "model.fit(features_downsampled, target_downsampled)\n",
    "predicted_valid = model.predict(features_valid)\n",
    "print('F1:', f1_score(target_valid, predicted_valid))"
   ]
  },
  {
   "cell_type": "code",
   "execution_count": 32,
   "metadata": {},
   "outputs": [
    {
     "name": "stdout",
     "output_type": "stream",
     "text": [
      "F1: 0.4175084175084175\n"
     ]
    }
   ],
   "source": [
    "model = RandomForestClassifier(n_estimators=20, random_state=12345)\n",
    "model.fit(features_downsampled, target_downsampled)\n",
    "predicted_valid = model.predict(features_valid)\n",
    "print('F1:', f1_score(target_valid, predicted_valid))"
   ]
  },
  {
   "cell_type": "code",
   "execution_count": 33,
   "metadata": {},
   "outputs": [
    {
     "name": "stdout",
     "output_type": "stream",
     "text": [
      "[0.7  0.15 0.   0.6  0.3 ]\n"
     ]
    }
   ],
   "source": [
    "# Ajuste de limiar\n",
    "probabilities_valid = model.predict_proba(features_valid)\n",
    "probabilities_one_valid = probabilities_valid[:, 1]\n",
    "print(probabilities_one_valid[:5])"
   ]
  },
  {
   "cell_type": "code",
   "execution_count": 34,
   "metadata": {},
   "outputs": [
    {
     "name": "stdout",
     "output_type": "stream",
     "text": [
      "Limiar = 0.00 | Precisão = 0.196, Sensibilidade = 1.000\n",
      "Limiar = 0.02 | Precisão = 0.196, Sensibilidade = 1.000\n",
      "Limiar = 0.04 | Precisão = 0.196, Sensibilidade = 1.000\n",
      "Limiar = 0.06 | Precisão = 0.197, Sensibilidade = 1.000\n",
      "Limiar = 0.08 | Precisão = 0.197, Sensibilidade = 1.000\n",
      "Limiar = 0.10 | Precisão = 0.201, Sensibilidade = 0.996\n",
      "Limiar = 0.12 | Precisão = 0.201, Sensibilidade = 0.996\n",
      "Limiar = 0.14 | Precisão = 0.201, Sensibilidade = 0.996\n",
      "Limiar = 0.16 | Precisão = 0.206, Sensibilidade = 0.993\n",
      "Limiar = 0.18 | Precisão = 0.206, Sensibilidade = 0.993\n",
      "Limiar = 0.20 | Precisão = 0.212, Sensibilidade = 0.993\n",
      "Limiar = 0.22 | Precisão = 0.212, Sensibilidade = 0.993\n",
      "Limiar = 0.24 | Precisão = 0.212, Sensibilidade = 0.993\n",
      "Limiar = 0.26 | Precisão = 0.217, Sensibilidade = 0.974\n",
      "Limiar = 0.28 | Precisão = 0.217, Sensibilidade = 0.974\n"
     ]
    }
   ],
   "source": [
    "probabilities_valid = model.predict_proba(features_valid)\n",
    "probabilities_one_valid = probabilities_valid[:, 1]\n",
    "\n",
    "for threshold in np.arange(0, 0.3, 0.02):\n",
    "    predicted_valid = probabilities_one_valid > threshold\n",
    "    precision = precision_score(target_valid, predicted_valid)\n",
    "    recall = recall_score(target_valid, predicted_valid)\n",
    "    print(\n",
    "        'Limiar = {:.2f} | Precisão = {:.3f}, Sensibilidade = {:.3f}'.format(\n",
    "            threshold, precision, recall\n",
    "        )\n",
    "    )"
   ]
  },
  {
   "cell_type": "code",
   "execution_count": 35,
   "metadata": {},
   "outputs": [
    {
     "data": {
      "text/plain": [
       "<Figure size 1008x1728 with 0 Axes>"
      ]
     },
     "metadata": {},
     "output_type": "display_data"
    },
    {
     "data": {
      "image/png": "[encoded data removed]",
      "text/plain": [
       "<Figure size 1008x1728 with 1 Axes>"
      ]
     },
     "metadata": {
      "needs_background": "light"
     },
     "output_type": "display_data"
    }
   ],
   "source": [
    "probabilities_valid = model.predict_proba(features_valid)\n",
    "probabilities_one_valid = probabilities_valid[:, 1]\n",
    "\n",
    "fpr, tpr, thresholds = roc_curve(target_valid, probabilities_one_valid)\n",
    "\n",
    "plt.figure()\n",
    "\n",
    "plt.figure()\n",
    "plt.plot(fpr, tpr)\n",
    "\n",
    "# Curva ROC para modelo aleatório (parece uma linha reta)\n",
    "plt.plot([0, 1], [0, 1], linestyle='--')\n",
    "\n",
    "plt.xlim([0.0, 1.0])\n",
    "plt.ylim([0.0, 1.0])\n",
    "plt.xlabel('Taxa de Falsos Positivos')\n",
    "plt.ylabel('Taxa de Verdadeiros Positivos')\n",
    "plt.title('Curva ROC')\n",
    "plt.show()"
   ]
  },
  {
   "cell_type": "code",
   "execution_count": 36,
   "metadata": {},
   "outputs": [
    {
     "name": "stdout",
     "output_type": "stream",
     "text": [
      "0.7812045984184406\n"
     ]
    }
   ],
   "source": [
    "probabilities_valid = model.predict_proba(features_valid)\n",
    "probabilities_one_valid = probabilities_valid[:, 1]\n",
    "\n",
    "auc_roc = roc_auc_score(target_valid, probabilities_one_valid)\n",
    "\n",
    "print(auc_roc)"
   ]
  },
  {
   "cell_type": "markdown",
   "metadata": {},
   "source": [
    "### Análise das descobertas\n",
    "\n",
    "Para medir a métrica AUC-ROC, precisamos importar a função roc_auc_score do módulo sklearn.metrics. Podemos então utilizá-la para calcular o AUC-ROC tanto para o conjunto de treinamento quanto para o conjunto de validação."
   ]
  },
  {
   "cell_type": "code",
   "execution_count": 37,
   "metadata": {},
   "outputs": [
    {
     "name": "stdout",
     "output_type": "stream",
     "text": [
      "Best F1 score: 0.35537742150968604\n",
      "Best threshold: 0.26\n",
      "Precision: 0.2173202614379085\n",
      "Recall: 0.9743589743589743\n",
      "AUC-ROC (training): 0.985992828328104\n",
      "AUC-ROC (validation): 0.7812045984184406\n"
     ]
    }
   ],
   "source": [
    "# Previsões das probabilidades por validações\n",
    "probabilities_valid = model.predict_proba(features_valid)\n",
    "probabilities_one_valid = probabilities_valid[:, 1]\n",
    "\n",
    "# Achando o melhor threshold\n",
    "best_threshold = 0\n",
    "best_f1_score = 0\n",
    "for threshold in np.arange(0, 0.3, 0.02):\n",
    "    predicted_valid = probabilities_one_valid > threshold\n",
    "    f1 = f1_score(target_valid, predicted_valid)\n",
    "    if f1 > best_f1_score:\n",
    "        best_f1_score = f1\n",
    "        best_threshold = threshold\n",
    "\n",
    "# Imprimindo o melhor F1 score ao correspondente threshold\n",
    "print('Best F1 score:', best_f1_score)\n",
    "print('Best threshold:', best_threshold)\n",
    "\n",
    "# Usando o melhor threshold  para fazer  dprevisões e calcular com precisão e recall\n",
    "predicted_valid = probabilities_one_valid > best_threshold\n",
    "precision = precision_score(target_valid, predicted_valid)\n",
    "recall = recall_score(target_valid, predicted_valid)\n",
    "\n",
    "# Imprimindo precision and recall\n",
    "print('Precision:', precision)\n",
    "print('Recall:', recall)\n",
    "\n",
    "# Calculando e imprimindo AUC-ROC para a,bos os conjuntos de validação e treino\n",
    "auc_roc_train = roc_auc_score(target_train, model.predict_proba(features_train)[:,1])\n",
    "auc_roc_valid = roc_auc_score(target_valid, model.predict_proba(features_valid)[:,1])\n",
    "print('AUC-ROC (training):', auc_roc_train)\n",
    "print('AUC-ROC (validation):', auc_roc_valid)"
   ]
  },
  {
   "cell_type": "markdown",
   "metadata": {},
   "source": [
    "## Conclusão\n",
    "\n",
    "As métricas do modelo indicam que ele está com um desempenho muito bom na classificação dos clientes que desejam sair do banco (classe positiva), com um recall de 1.0, o que significa que ele é capaz de identificar todos os casos positivos. No entanto, a precisão é baixa, indicando que alguns dos casos negativos foram classificados incorretamente como positivos. A curva AUC-ROC do conjunto de validação é 0.80, o que indica que o modelo tem uma boa capacidade de distinguir entre as classes positivas e negativas.\n",
    "\n",
    "É importante notar que o desequilíbrio de classe foi corrigido com sucesso, o que é evidenciado pelo desempenho do modelo com recall de 1.0 na classe positiva. No entanto, a precisão baixa pode indicar que é necessário ajustar ainda mais o modelo, considerando talvez novas abordagens para lidar com desequilíbrio de classe ou procurar por outros hiperparâmetros que possam melhorar o desempenho do modelo."
   ]
  }
 ],
 "metadata": {
  "kernelspec": {
   "display_name": "Python 3 (ipykernel)",
   "language": "python",
   "name": "python3"
  },
  "language_info": {
   "codemirror_mode": {
    "name": "ipython",
    "version": 3
   },
   "file_extension": ".py",
   "mimetype": "text/x-python",
   "name": "python",
   "nbconvert_exporter": "python",
   "pygments_lexer": "ipython3",
   "version": "3.9.13"
  },
  "toc": {
   "base_numbering": 1,
   "nav_menu": {},
   "number_sections": true,
   "sideBar": true,
   "skip_h1_title": true,
   "title_cell": "Table of Contents",
   "title_sidebar": "Contents",
   "toc_cell": false,
   "toc_position": {},
   "toc_section_display": true,
   "toc_window_display": false
  }
 },
 "nbformat": 4,
 "nbformat_minor": 2
}
